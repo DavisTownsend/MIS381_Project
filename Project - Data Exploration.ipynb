{
 "cells": [
  {
   "cell_type": "code",
   "execution_count": 1,
   "metadata": {
    "collapsed": false
   },
   "outputs": [
    {
     "name": "stdout",
     "output_type": "stream",
     "text": [
      "Populating the interactive namespace from numpy and matplotlib\n"
     ]
    }
   ],
   "source": [
    "%pylab inline\n",
    "import os\n",
    "from pandas import Series, DataFrame\n",
    "import pandas as pd\n",
    "import numpy as np\n",
    "import seaborn as sns"
   ]
  },
  {
   "cell_type": "code",
   "execution_count": 2,
   "metadata": {
    "collapsed": false,
    "scrolled": true
   },
   "outputs": [
    {
     "data": {
      "text/html": [
       "<div>\n",
       "<table border=\"1\" class=\"dataframe\">\n",
       "  <thead>\n",
       "    <tr style=\"text-align: right;\">\n",
       "      <th></th>\n",
       "      <th>DRG Definition</th>\n",
       "      <th>Provider Name</th>\n",
       "      <th>Provider Street Address</th>\n",
       "      <th>Provider City</th>\n",
       "      <th>Provider State</th>\n",
       "      <th>Provider Zip Code</th>\n",
       "      <th>Hospital Referral Region (HRR) Description</th>\n",
       "      <th>Total Discharges</th>\n",
       "      <th>Average Covered Charges</th>\n",
       "      <th>Average Total Payments</th>\n",
       "      <th>Average Medicare Payments</th>\n",
       "    </tr>\n",
       "  </thead>\n",
       "  <tbody>\n",
       "    <tr>\n",
       "      <th>0</th>\n",
       "      <td>HEART TRANSPLANT OR IMPLANT OF HEART ASSIST SY...</td>\n",
       "      <td>UNIVERSITY OF ALABAMA HOSPITAL</td>\n",
       "      <td>619 SOUTH 19TH STREET</td>\n",
       "      <td>BIRMINGHAM</td>\n",
       "      <td>AL</td>\n",
       "      <td>35233</td>\n",
       "      <td>AL - Birmingham</td>\n",
       "      <td>13</td>\n",
       "      <td>1172866.390</td>\n",
       "      <td>251876.3100</td>\n",
       "      <td>244457.9200</td>\n",
       "    </tr>\n",
       "    <tr>\n",
       "      <th>1</th>\n",
       "      <td>HEART TRANSPLANT OR IMPLANT OF HEART ASSIST SY...</td>\n",
       "      <td>MAYO CLINIC HOSPITAL</td>\n",
       "      <td>5777 EAST MAYO BOULEVARD</td>\n",
       "      <td>PHOENIX</td>\n",
       "      <td>AZ</td>\n",
       "      <td>85054</td>\n",
       "      <td>AZ - Phoenix</td>\n",
       "      <td>20</td>\n",
       "      <td>437531.300</td>\n",
       "      <td>240422.8000</td>\n",
       "      <td>133509.5500</td>\n",
       "    </tr>\n",
       "    <tr>\n",
       "      <th>2</th>\n",
       "      <td>HEART TRANSPLANT OR IMPLANT OF HEART ASSIST SY...</td>\n",
       "      <td>SUTTER GENERAL HOSPITAL</td>\n",
       "      <td>2801 L STREET</td>\n",
       "      <td>SACRAMENTO</td>\n",
       "      <td>CA</td>\n",
       "      <td>95816</td>\n",
       "      <td>CA - Sacramento</td>\n",
       "      <td>25</td>\n",
       "      <td>815674.120</td>\n",
       "      <td>233197.4800</td>\n",
       "      <td>221681.8000</td>\n",
       "    </tr>\n",
       "    <tr>\n",
       "      <th>3</th>\n",
       "      <td>HEART TRANSPLANT OR IMPLANT OF HEART ASSIST SY...</td>\n",
       "      <td>RONALD REAGAN U C L A MEDICAL CENTER</td>\n",
       "      <td>757 WESTWOOD PLAZA</td>\n",
       "      <td>LOS ANGELES</td>\n",
       "      <td>CA</td>\n",
       "      <td>90095</td>\n",
       "      <td>CA - Los Angeles</td>\n",
       "      <td>14</td>\n",
       "      <td>1499043.571</td>\n",
       "      <td>415968.7857</td>\n",
       "      <td>366608.9286</td>\n",
       "    </tr>\n",
       "    <tr>\n",
       "      <th>4</th>\n",
       "      <td>HEART TRANSPLANT OR IMPLANT OF HEART ASSIST SY...</td>\n",
       "      <td>STANFORD HOSPITAL</td>\n",
       "      <td>300 PASTEUR DRIVE</td>\n",
       "      <td>STANFORD</td>\n",
       "      <td>CA</td>\n",
       "      <td>94305</td>\n",
       "      <td>CA - San Mateo County</td>\n",
       "      <td>23</td>\n",
       "      <td>2238699.130</td>\n",
       "      <td>420865.4783</td>\n",
       "      <td>403453.6522</td>\n",
       "    </tr>\n",
       "  </tbody>\n",
       "</table>\n",
       "</div>"
      ],
      "text/plain": [
       "                                      DRG Definition  \\\n",
       "0  HEART TRANSPLANT OR IMPLANT OF HEART ASSIST SY...   \n",
       "1  HEART TRANSPLANT OR IMPLANT OF HEART ASSIST SY...   \n",
       "2  HEART TRANSPLANT OR IMPLANT OF HEART ASSIST SY...   \n",
       "3  HEART TRANSPLANT OR IMPLANT OF HEART ASSIST SY...   \n",
       "4  HEART TRANSPLANT OR IMPLANT OF HEART ASSIST SY...   \n",
       "\n",
       "                          Provider Name   Provider Street Address  \\\n",
       "0        UNIVERSITY OF ALABAMA HOSPITAL     619 SOUTH 19TH STREET   \n",
       "1                  MAYO CLINIC HOSPITAL  5777 EAST MAYO BOULEVARD   \n",
       "2               SUTTER GENERAL HOSPITAL             2801 L STREET   \n",
       "3  RONALD REAGAN U C L A MEDICAL CENTER        757 WESTWOOD PLAZA   \n",
       "4                     STANFORD HOSPITAL         300 PASTEUR DRIVE   \n",
       "\n",
       "  Provider City Provider State  Provider Zip Code  \\\n",
       "0    BIRMINGHAM             AL              35233   \n",
       "1       PHOENIX             AZ              85054   \n",
       "2    SACRAMENTO             CA              95816   \n",
       "3   LOS ANGELES             CA              90095   \n",
       "4      STANFORD             CA              94305   \n",
       "\n",
       "  Hospital Referral Region (HRR) Description  Total Discharges  \\\n",
       "0                            AL - Birmingham                13   \n",
       "1                               AZ - Phoenix                20   \n",
       "2                            CA - Sacramento                25   \n",
       "3                           CA - Los Angeles                14   \n",
       "4                      CA - San Mateo County                23   \n",
       "\n",
       "   Average Covered Charges  Average Total Payments  Average Medicare Payments  \n",
       "0              1172866.390             251876.3100                244457.9200  \n",
       "1               437531.300             240422.8000                133509.5500  \n",
       "2               815674.120             233197.4800                221681.8000  \n",
       "3              1499043.571             415968.7857                366608.9286  \n",
       "4              2238699.130             420865.4783                403453.6522  "
      ]
     },
     "execution_count": 2,
     "metadata": {},
     "output_type": "execute_result"
    }
   ],
   "source": [
    "hospital = pd.read_csv('Hospital.csv')\n",
    "hospital.head()"
   ]
  },
  {
   "cell_type": "code",
   "execution_count": 17,
   "metadata": {
    "collapsed": false,
    "scrolled": false
   },
   "outputs": [
    {
     "data": {
      "text/plain": [
       "<matplotlib.axes._subplots.AxesSubplot at 0x1232c6d8>"
      ]
     },
     "execution_count": 17,
     "metadata": {},
     "output_type": "execute_result"
    },
    {
     "data": {
      "image/png": "[encoded data removed]",
      "text/plain": [
       "<matplotlib.figure.Figure at 0xaeb2ba8>"
      ]
     },
     "metadata": {},
     "output_type": "display_data"
    }
   ],
   "source": [
    "hospital['Provider State'].value_counts().sort_index(ascending=False).plot(kind='barh', figsize = (,13))"
   ]
  },
  {
   "cell_type": "code",
   "execution_count": 37,
   "metadata": {
    "collapsed": false
   },
   "outputs": [
    {
     "ename": "SyntaxError",
     "evalue": "invalid syntax (<ipython-input-37-dec1fda6f1ae>, line 1)",
     "output_type": "error",
     "traceback": [
      "\u001b[1;36m  File \u001b[1;32m\"<ipython-input-37-dec1fda6f1ae>\"\u001b[1;36m, line \u001b[1;32m1\u001b[0m\n\u001b[1;33m    $ pip install seaborn\u001b[0m\n\u001b[1;37m    ^\u001b[0m\n\u001b[1;31mSyntaxError\u001b[0m\u001b[1;31m:\u001b[0m invalid syntax\n"
     ]
    }
   ],
   "source": []
  },
  {
   "cell_type": "code",
   "execution_count": null,
   "metadata": {
    "collapsed": true
   },
   "outputs": [],
   "source": []
  }
 ],
 "metadata": {
  "kernelspec": {
   "display_name": "Python 2",
   "language": "python",
   "name": "python2"
  },
  "language_info": {
   "codemirror_mode": {
    "name": "ipython",
    "version": 2
   },
   "file_extension": ".py",
   "mimetype": "text/x-python",
   "name": "python",
   "nbconvert_exporter": "python",
   "pygments_lexer": "ipython2",
   "version": "2.7.11"
  }
 },
 "nbformat": 4,
 "nbformat_minor": 0
}
